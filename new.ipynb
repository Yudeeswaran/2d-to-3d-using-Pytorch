{
 "cells": [
  {
   "cell_type": "code",
   "execution_count": 3,
   "metadata": {},
   "outputs": [
    {
     "name": "stdout",
     "output_type": "stream",
     "text": [
      "Jupyter environment detected. Enabling Open3D WebVisualizer.\n",
      "[Open3D INFO] WebRTC GUI backend enabled.\n",
      "[Open3D INFO] WebRTCWindowSystem: HTTP handshake server disabled.\n"
     ]
    }
   ],
   "source": [
    "import cv2\n",
    "import torch\n",
    "import open3d as o3d\n",
    "import numpy as np\n",
    "import segmentation_models_pytorch as smp\n",
    "from monodepth2 import networks\n",
    "import torch.nn.functional as F\n",
    "\n",
    "# Load input image\n",
    "image_path = 'saxena_monocular_depth_2/combined1-p-170t0.jpg'\n",
    "image = cv2.imread(image_path)\n",
    "image = cv2.cvtColor(image, cv2.COLOR_BGR2RGB)\n",
    "image = cv2.resize(image, (256, 256))\n",
    "\n",
    "# Normalize image for deep learning models\n",
    "input_image = image.astype(np.float32) / 255.0\n",
    "input_image = torch.from_numpy(input_image).permute(2, 0, 1).unsqueeze(0)\n"
   ]
  },
  {
   "cell_type": "code",
   "execution_count": 4,
   "metadata": {},
   "outputs": [],
   "source": [
    "# Define the segmentation model (U-Net for segmentation task)\n",
    "seg_model = smp.Unet(encoder_name='resnet34', encoder_weights='imagenet', in_channels=3, classes=1)\n",
    "seg_model.eval()\n",
    "\n",
    "# Segmentation to obtain the object mask\n",
    "with torch.no_grad():\n",
    "    seg_mask = seg_model(input_image)\n",
    "\n",
    "# Threshold to get binary mask\n",
    "seg_mask = torch.sigmoid(seg_mask).squeeze().cpu().numpy()\n",
    "seg_mask = (seg_mask > 0.5).astype(np.uint8)\n",
    "\n",
    "# Apply mask on the input image\n",
    "segmented_image = image * np.stack([seg_mask, seg_mask, seg_mask], axis=-1)\n"
   ]
  },
  {
   "cell_type": "code",
   "execution_count": 5,
   "metadata": {},
   "outputs": [
    {
     "name": "stderr",
     "output_type": "stream",
     "text": [
      "C:\\Users\\HP\\AppData\\Local\\Packages\\PythonSoftwareFoundation.Python.3.11_qbz5n2kfra8p0\\LocalCache\\local-packages\\Python311\\site-packages\\torchvision\\models\\_utils.py:135: UserWarning: Using 'weights' as positional parameter(s) is deprecated since 0.13 and may be removed in the future. Please use keyword parameter(s) instead.\n",
      "  warnings.warn(\n",
      "C:\\Users\\HP\\AppData\\Local\\Packages\\PythonSoftwareFoundation.Python.3.11_qbz5n2kfra8p0\\LocalCache\\local-packages\\Python311\\site-packages\\torchvision\\models\\_utils.py:223: UserWarning: Arguments other than a weight enum or `None` for 'weights' are deprecated since 0.13 and may be removed in the future. The current behavior is equivalent to passing `weights=None`.\n",
      "  warnings.warn(msg)\n"
     ]
    }
   ],
   "source": [
    "\n",
    "depth_model = networks.ResnetEncoder(18, False)\n",
    "depth_decoder = networks.DepthDecoder(num_ch_enc=depth_model.num_ch_enc, scales=range(4))\n",
    "# Load the pre-trained weights for the depth model\n",
    "depth_model.load_state_dict(torch.load(\"models/encoder.pth\", map_location=torch.device('cpu')), strict=False)\n",
    "\n",
    "depth_decoder.load_state_dict(torch.load(\"models/depth.pth\",map_location=torch.device('cpu')))\n",
    "depth_model.eval()\n",
    "depth_decoder.eval()\n",
    "\n",
    "# Predict depth map\n",
    "with torch.no_grad():\n",
    "    features = depth_model(input_image)\n",
    "    outputs = depth_decoder(features)\n",
    "    depth_map = outputs[(\"disp\", 0)]\n",
    "    depth_map = F.interpolate(depth_map, (256, 256), mode=\"bilinear\", align_corners=False).squeeze().cpu().numpy()\n",
    "\n",
    "# Normalize depth map for visualization\n",
    "depth_map = (depth_map - depth_map.min()) / (depth_map.max() - depth_map.min())\n"
   ]
  },
  {
   "cell_type": "code",
   "execution_count": 6,
   "metadata": {},
   "outputs": [
    {
     "ename": "",
     "evalue": "",
     "output_type": "error",
     "traceback": [
      "\u001b[1;31mThe Kernel crashed while executing code in the current cell or a previous cell. \n",
      "\u001b[1;31mPlease review the code in the cell(s) to identify a possible cause of the failure. \n",
      "\u001b[1;31mClick <a href='https://aka.ms/vscodeJupyterKernelCrash'>here</a> for more info. \n",
      "\u001b[1;31mView Jupyter <a href='command:jupyter.viewOutput'>log</a> for further details."
     ]
    }
   ],
   "source": [
    "# Convert depth map to 3D point cloud using Open3D\n",
    "def depth_to_point_cloud(depth, intrinsic):\n",
    "    # Create grid for pixel coordinates\n",
    "    h, w = depth.shape\n",
    "    i, j = np.meshgrid(np.arange(w), np.arange(h), indexing='xy')\n",
    "\n",
    "    # Calculate normalized camera coordinates\n",
    "    z = depth\n",
    "    x = (i - intrinsic[0, 2]) * z / intrinsic[0, 0]\n",
    "    y = (j - intrinsic[1, 2]) * z / intrinsic[1, 1]\n",
    "\n",
    "    # Create 3D point cloud\n",
    "    point_cloud = np.stack((x, y, z), axis=-1).reshape(-1, 3)\n",
    "    return point_cloud\n",
    "\n",
    "# Define intrinsic camera parameters (assumed or given by your dataset)\n",
    "intrinsic = np.array([[500.0, 0, 128.0], [0, 500.0, 128.0], [0, 0, 1]])\n",
    "\n",
    "# Convert depth map to point cloud\n",
    "points = depth_to_point_cloud(depth_map, intrinsic)\n",
    "\n",
    "# Create Open3D point cloud object\n",
    "pcd = o3d.geometry.PointCloud()\n",
    "pcd.points = o3d.utility.Vector3dVector(points)\n",
    "\n",
    "# Visualize the point cloud\n",
    "o3d.visualization.draw_geometries([pcd])\n"
   ]
  },
  {
   "cell_type": "code",
   "execution_count": null,
   "metadata": {},
   "outputs": [],
   "source": [
    "# Perform Poisson surface reconstruction from the point cloud\n",
    "pcd = pcd.voxel_down_sample(voxel_size=0.05)\n",
    "mesh, densities = o3d.geometry.TriangleMesh.create_from_point_cloud_poisson(pcd, depth=7)\n",
    "\n",
    "# Visualize the mesh\n",
    "o3d.visualization.draw_geometries([mesh])\n"
   ]
  },
  {
   "cell_type": "code",
   "execution_count": null,
   "metadata": {},
   "outputs": [],
   "source": []
  }
 ],
 "metadata": {
  "kernelspec": {
   "display_name": "Python 3",
   "language": "python",
   "name": "python3"
  },
  "language_info": {
   "codemirror_mode": {
    "name": "ipython",
    "version": 3
   },
   "file_extension": ".py",
   "mimetype": "text/x-python",
   "name": "python",
   "nbconvert_exporter": "python",
   "pygments_lexer": "ipython3",
   "version": "3.11.9"
  }
 },
 "nbformat": 4,
 "nbformat_minor": 2
}
